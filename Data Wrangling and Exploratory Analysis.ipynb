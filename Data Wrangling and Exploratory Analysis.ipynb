{
 "cells": [
  {
   "cell_type": "markdown",
   "metadata": {},
   "source": [
    "## Data Cleaning"
   ]
  },
  {
   "cell_type": "markdown",
   "metadata": {},
   "source": [
    "In the first portion, we will load our dataset with the pairs of quora questions. We will validate the datatypes and check for missing values."
   ]
  },
  {
   "cell_type": "code",
   "execution_count": 1,
   "metadata": {},
   "outputs": [],
   "source": [
    "# import necessary packages\n",
    "import matplotlib.pyplot as plt\n",
    "import pandas as pd\n",
    "import os"
   ]
  },
  {
   "cell_type": "code",
   "execution_count": 2,
   "metadata": {},
   "outputs": [],
   "source": [
    "# Get directory for data\n",
    "path=\"/Users/student/Desktop/SpringBoardDSCareerTrack/Capstone 3 Datasets/Quora Semantic Pairing\"\n",
    "os.chdir(path)"
   ]
  },
  {
   "cell_type": "code",
   "execution_count": 3,
   "metadata": {},
   "outputs": [
    {
     "name": "stderr",
     "output_type": "stream",
     "text": [
      "/Users/student/opt/anaconda3/lib/python3.7/site-packages/IPython/core/interactiveshell.py:3063: DtypeWarning: Columns (7,8,9,10,11) have mixed types.Specify dtype option on import or set low_memory=False.\n",
      "  interactivity=interactivity, compiler=compiler, result=result)\n"
     ]
    },
    {
     "data": {
      "text/html": [
       "<div>\n",
       "<style scoped>\n",
       "    .dataframe tbody tr th:only-of-type {\n",
       "        vertical-align: middle;\n",
       "    }\n",
       "\n",
       "    .dataframe tbody tr th {\n",
       "        vertical-align: top;\n",
       "    }\n",
       "\n",
       "    .dataframe thead th {\n",
       "        text-align: right;\n",
       "    }\n",
       "</style>\n",
       "<table border=\"1\" class=\"dataframe\">\n",
       "  <thead>\n",
       "    <tr style=\"text-align: right;\">\n",
       "      <th></th>\n",
       "      <th>qid1</th>\n",
       "      <th>qid2</th>\n",
       "      <th>question1</th>\n",
       "      <th>question2</th>\n",
       "      <th>is_duplicate</th>\n",
       "    </tr>\n",
       "    <tr>\n",
       "      <th>id</th>\n",
       "      <th></th>\n",
       "      <th></th>\n",
       "      <th></th>\n",
       "      <th></th>\n",
       "      <th></th>\n",
       "    </tr>\n",
       "  </thead>\n",
       "  <tbody>\n",
       "    <tr>\n",
       "      <th>0</th>\n",
       "      <td>1</td>\n",
       "      <td>2</td>\n",
       "      <td>What is the step by step guide to invest in sh...</td>\n",
       "      <td>What is the step by step guide to invest in sh...</td>\n",
       "      <td>0</td>\n",
       "    </tr>\n",
       "    <tr>\n",
       "      <th>1</th>\n",
       "      <td>3</td>\n",
       "      <td>4</td>\n",
       "      <td>What is the story of Kohinoor (Koh-i-Noor) Dia...</td>\n",
       "      <td>What would happen if the Indian government sto...</td>\n",
       "      <td>0</td>\n",
       "    </tr>\n",
       "    <tr>\n",
       "      <th>2</th>\n",
       "      <td>5</td>\n",
       "      <td>6</td>\n",
       "      <td>How can I increase the speed of my internet co...</td>\n",
       "      <td>How can Internet speed be increased by hacking...</td>\n",
       "      <td>0</td>\n",
       "    </tr>\n",
       "    <tr>\n",
       "      <th>3</th>\n",
       "      <td>7</td>\n",
       "      <td>8</td>\n",
       "      <td>Why am I mentally very lonely? How can I solve...</td>\n",
       "      <td>Find the remainder when [math]23^{24}[/math] i...</td>\n",
       "      <td>0</td>\n",
       "    </tr>\n",
       "    <tr>\n",
       "      <th>4</th>\n",
       "      <td>9</td>\n",
       "      <td>10</td>\n",
       "      <td>Which one dissolve in water quikly sugar, salt...</td>\n",
       "      <td>Which fish would survive in salt water?</td>\n",
       "      <td>0</td>\n",
       "    </tr>\n",
       "  </tbody>\n",
       "</table>\n",
       "</div>"
      ],
      "text/plain": [
       "    qid1  qid2                                          question1  \\\n",
       "id                                                                  \n",
       "0      1     2  What is the step by step guide to invest in sh...   \n",
       "1      3     4  What is the story of Kohinoor (Koh-i-Noor) Dia...   \n",
       "2      5     6  How can I increase the speed of my internet co...   \n",
       "3      7     8  Why am I mentally very lonely? How can I solve...   \n",
       "4      9    10  Which one dissolve in water quikly sugar, salt...   \n",
       "\n",
       "                                            question2 is_duplicate  \n",
       "id                                                                  \n",
       "0   What is the step by step guide to invest in sh...            0  \n",
       "1   What would happen if the Indian government sto...            0  \n",
       "2   How can Internet speed be increased by hacking...            0  \n",
       "3   Find the remainder when [math]23^{24}[/math] i...            0  \n",
       "4             Which fish would survive in salt water?            0  "
      ]
     },
     "execution_count": 3,
     "metadata": {},
     "output_type": "execute_result"
    }
   ],
   "source": [
    "# Assign data as a dataframe. Obtain the relevant features for analysis\n",
    "quora_df = pd.read_csv('q_quora.csv')\n",
    "quora_df = quora_df[['id', 'qid1', 'qid2', 'question1', 'question2', 'is_duplicate']]\n",
    "quora_df.set_index('id', inplace=True)\n",
    "quora_df.head()"
   ]
  },
  {
   "cell_type": "code",
   "execution_count": 4,
   "metadata": {},
   "outputs": [
    {
     "name": "stdout",
     "output_type": "stream",
     "text": [
      "<class 'pandas.core.frame.DataFrame'>\n",
      "Int64Index: 404351 entries, 0 to 404350\n",
      "Data columns (total 5 columns):\n",
      " #   Column        Non-Null Count   Dtype \n",
      "---  ------        --------------   ----- \n",
      " 0   qid1          404351 non-null  int64 \n",
      " 1   qid2          404351 non-null  int64 \n",
      " 2   question1     404350 non-null  object\n",
      " 3   question2     404349 non-null  object\n",
      " 4   is_duplicate  404351 non-null  object\n",
      "dtypes: int64(2), object(3)\n",
      "memory usage: 18.5+ MB\n"
     ]
    }
   ],
   "source": [
    "# Check the datatype and non-null count\n",
    "quora_df.info()"
   ]
  },
  {
   "cell_type": "markdown",
   "metadata": {},
   "source": [
    "We notice two things. First, the non-null counts do not match meaning we must deal with missing values for question1 and question2. Next, the 'is_duplicate' feature should have a Dtype of int since it should be binary, 0 and 1. We address both issues.  "
   ]
  },
  {
   "cell_type": "markdown",
   "metadata": {},
   "source": [
    "#### Missing Values"
   ]
  },
  {
   "cell_type": "code",
   "execution_count": 5,
   "metadata": {},
   "outputs": [
    {
     "data": {
      "text/html": [
       "<div>\n",
       "<style scoped>\n",
       "    .dataframe tbody tr th:only-of-type {\n",
       "        vertical-align: middle;\n",
       "    }\n",
       "\n",
       "    .dataframe tbody tr th {\n",
       "        vertical-align: top;\n",
       "    }\n",
       "\n",
       "    .dataframe thead th {\n",
       "        text-align: right;\n",
       "    }\n",
       "</style>\n",
       "<table border=\"1\" class=\"dataframe\">\n",
       "  <thead>\n",
       "    <tr style=\"text-align: right;\">\n",
       "      <th></th>\n",
       "      <th>qid1</th>\n",
       "      <th>qid2</th>\n",
       "      <th>question1</th>\n",
       "      <th>question2</th>\n",
       "      <th>is_duplicate</th>\n",
       "    </tr>\n",
       "    <tr>\n",
       "      <th>id</th>\n",
       "      <th></th>\n",
       "      <th></th>\n",
       "      <th></th>\n",
       "      <th></th>\n",
       "      <th></th>\n",
       "    </tr>\n",
       "  </thead>\n",
       "  <tbody>\n",
       "    <tr>\n",
       "      <th>105796</th>\n",
       "      <td>209841</td>\n",
       "      <td>209842</td>\n",
       "      <td>How can I develop android app?</td>\n",
       "      <td>NaN</td>\n",
       "      <td>0</td>\n",
       "    </tr>\n",
       "    <tr>\n",
       "      <th>201871</th>\n",
       "      <td>398348</td>\n",
       "      <td>398349</td>\n",
       "      <td>How can I create an Android app?</td>\n",
       "      <td>NaN</td>\n",
       "      <td>0</td>\n",
       "    </tr>\n",
       "    <tr>\n",
       "      <th>363416</th>\n",
       "      <td>711434</td>\n",
       "      <td>711435</td>\n",
       "      <td>NaN</td>\n",
       "      <td>My Chinese name is Haichao Yu. What English na...</td>\n",
       "      <td>0</td>\n",
       "    </tr>\n",
       "  </tbody>\n",
       "</table>\n",
       "</div>"
      ],
      "text/plain": [
       "          qid1    qid2                         question1  \\\n",
       "id                                                         \n",
       "105796  209841  209842    How can I develop android app?   \n",
       "201871  398348  398349  How can I create an Android app?   \n",
       "363416  711434  711435                               NaN   \n",
       "\n",
       "                                                question2 is_duplicate  \n",
       "id                                                                      \n",
       "105796                                                NaN            0  \n",
       "201871                                                NaN            0  \n",
       "363416  My Chinese name is Haichao Yu. What English na...            0  "
      ]
     },
     "execution_count": 5,
     "metadata": {},
     "output_type": "execute_result"
    }
   ],
   "source": [
    "# Check the rows where missing values exist\n",
    "quora_df[quora_df.isna().any(axis=1)]"
   ]
  },
  {
   "cell_type": "code",
   "execution_count": 6,
   "metadata": {},
   "outputs": [],
   "source": [
    "# Remove rows with missing value\n",
    "quora_df.dropna(axis=0, inplace=True)"
   ]
  },
  {
   "cell_type": "markdown",
   "metadata": {},
   "source": [
    "#### Editing the 'is_duplicate' feature"
   ]
  },
  {
   "cell_type": "markdown",
   "metadata": {},
   "source": [
    "We should expect the 'is_duplicate' column to be binary between 0 and 1. The dtype however is object so there is likely some string. We will now edit this column."
   ]
  },
  {
   "cell_type": "code",
   "execution_count": 7,
   "metadata": {},
   "outputs": [
    {
     "data": {
      "text/plain": [
       "array(['0', '1',\n",
       "       'Do bullets travel faster than the speed of sound when shot from a gun? If not, is it possible? If they do, what gun and how much devastation occurs?',\n",
       "       'My sister told my crush that I like her without me asking her to do so. What should I do now?',\n",
       "       ' how would this change the plot for the whole RR story?',\n",
       "       'What were the greatest achievements of the Persian Empire?',\n",
       "       'What are the best places to visit in Japan to get a feel for their latest technological advancements?',\n",
       "       'My boyfriend wants to have sex with me . And I have mixed feelings regarding that. Should I do it or not ?',\n",
       "       ' mass communication or pharmacy?',\n",
       "       'What if we are actually moving back in time? Can one differentiate a backward flow of time from forward flow?',\n",
       "       \"I am in love with my classmate, I am gay and he's straight, what should I do?\",\n",
       "       'Does Donald Trump get to deduct his campaign expenses from his taxes?',\n",
       "       ' 2) share bonanza', ' is this okay?', 'What are some TL',\n",
       "       'What do Quora users feel about the concept of heaven and hell irrespective of their religions? Can good and bad people end up in same place up there?',\n",
       "       ' how can I plan that?', 'p:1%7C',\n",
       "       \"Has anyone ever heard of a friend forgiving his friend's having sex with his wife, and their being friends again?\",\n",
       "       'Why do people of some races seem to be better at certain sports?',\n",
       "       ' how do recover my password?', ' stocks or a bank account?',\n",
       "       \" Netbeans or Eclipse and whats the difference between these two IDE' s?\",\n",
       "       'Which Indian states are well known in other countries?',\n",
       "       'Are you fonder of Nietzsche or Kierkegaard?',\n",
       "       'My ideal girl is out of my reach. Should I settle for what I can get?',\n",
       "       \" Pope Julius II doesn't die in 1513. How's the world different?\",\n",
       "       \"I'm a woman. How do I make gay friends?\",\n",
       "       ' Tupac or Biggie. Why?', 'Can humans eat cooked chicken bones?',\n",
       "       ' or feel thoughts?', ' how is it so popular?',\n",
       "       ' Am I allowed take the JEE and apply to IIT?',\n",
       "       ' what does this say about the relation between photons and gravity (tons) and which particles would bend upwards?',\n",
       "       \"Why would a girl on earth be easily attracted by 'Superman', but not a guy who has made his career on his own, saves lives or makes lives of people easy?\",\n",
       "       \"Which is India's highest peak?\", ' foundation or BB cream?',\n",
       "       'How is symbolism used in writing?',\n",
       "       \" is it illegal to tamper with my own food (i.e. dropping a pizza in the toilet and then storing it) knowing they'll eat it?\",\n",
       "       'My dad is a professional gambler and he gave my sister and me each $25k. The first one of us who doubles the money anyhow wins another $250k. Should I just bet all at once in Roulette?',\n",
       "       'I have a great idea for an app which requires extensive coding skills, but I dont have any basic knowledge. What should I do?',\n",
       "       'I am a woman in love with my gay best friend. He has said there is something deep in our friendship, but he is gay. How do I get over him?',\n",
       "       ' how should I study chemistry?', ' “Anal sex.”?',\n",
       "       ' everything else is secondary. Am I wrong?',\n",
       "       ' to live in a developed nation?',\n",
       "       'What does it feel like to have a man ejaculate inside your anus (without a condom)?',\n",
       "       ' how do I undo this?', 'Who has the highest IQ in India?',\n",
       "       'Is MCA from IGNOU worthfull course?',\n",
       "       'If Wikipedia crashed and all of it got deleted what would happen to the world?',\n",
       "       'What are the different positions available in a venture capital firm?',\n",
       "       'What does this mean?',\n",
       "       'I would like to incorporate my tech company in Delaware, but operate it out of Canada. My concern is would the company not be considered a residency corporation of Canada, and therefore all Canadian tax law would be applicable?',\n",
       "       'What is the full form of jio?',\n",
       "       'How do I get to talk to a customer care executive of HDFC bank?',\n",
       "       ' in india?',\n",
       "       'Is the universe infinite? If so, what is it expanding into?',\n",
       "       \"Which function returns if we've reached the end of a file (in C)?\",\n",
       "       'What is the difference between while do and do while C#?',\n",
       "       ' what could have been the primary cause of instability and what could be done to correct it?',\n",
       "       ' Kostas Manolas or Alessio Romagnoli?', ' GHZ or RAM?',\n",
       "       'What are some of the highest paying jobs in India?',\n",
       "       'I am self-employed and my parents are the directors of my venture. Can I use their Recommendation Letters while applying for PhD at US universities?',\n",
       "       ' what strategy do you recommend for reinvesting this money given current markets and the upcoming election?',\n",
       "       'Is it bad that I do not want to make a man leave his family because they have children, and I would rather them grow up with a father, as my dad left when I was young to be with another woman and we never had a relationship since then?',\n",
       "       'Does coming from a poor country decrease the likelihood of f1 visa approval?',\n",
       "       'What are some sensible trolls and memes?',\n",
       "       ' what are those dimensions?',\n",
       "       'I got an offer from logistics startup (2014) of 7lpa, as if now am working with HP CTC 5.5 what would be beneficial for me in long run, plz suggest?',\n",
       "       ' in case I encounter difficulties?',\n",
       "       \"I told my best friend I love her, but she's pretending like nothing happened, still as good friends as we were before. How do I attract her?\",\n",
       "       'How does it feel to not sleep for 24-36 hours?',\n",
       "       'How to not too salty fish sauce during salted?',\n",
       "       'I have left Larsen and tubro ltd within 5 month and after 4 month gap, joined another, again after 6 month I left this jobless .what should I do?',\n",
       "       'Is there anything infinite in our universe?',\n",
       "       ' it is a two member LLC. I filed Schedule K1 for last year with my personal tax return and my partner did the same thing as me. Do we still have to file a Form 1065 separately?',\n",
       "       '\\\\', \" will it show up for a UA for my parole in six days' time?\",\n",
       "       ' why?', 'How many IITians are there on Quora?',\n",
       "       \"What does the UK's Labour Party believe should be done to improve mental health care?\",\n",
       "       ' how do they get energy for their movement?',\n",
       "       'How many fund provide for m l a?', \" which one's better?\",\n",
       "       'I am 22 and I am only 157 cm.How can I increase my height up to 168 cm?',\n",
       "       \"Which is the world's oldest civilization?\", 'a+c=13',\n",
       "       ' doEs this mean she block me?', ' the system or the society?',\n",
       "       'Was time created first or universe?',\n",
       "       \" I was added to all her groups and her account's blocked settings migrated into mine. How do I solve this? How do I ensure she's not receiving messages meant for me?\",\n",
       "       'How do I change who I am?',\n",
       "       'Why would an intelligent person vote for Donald Trump?',\n",
       "       ' tailgating a slow driver or passing a the slow driver in a no passing zone?',\n",
       "       ' surely it must be expanding into something?',\n",
       "       'What is the day schedule of a full time home tutor?',\n",
       "       'As an American, how would i procure a Land Rover Discovery diesel?',\n",
       "       \"What were Sir Francis Bacon's most important contributions to the scientific revolution?\",\n",
       "       ' review of the literature',\n",
       "       ' the Nvidia GTX 1080 or the Nvidia Quadro M4000?',\n",
       "       ' what should I do?',\n",
       "       'Is it better to go for a job just after your graduation?',\n",
       "       ' I would appreciate if the answer explains physical significance?',\n",
       "       \"How do you deal with always being in someone's shadow?\",\n",
       "       \"How does one speak to a Vodafone customer care executive quickly? I'm sick and tired of waiting and listening to the same monotonous IVRS!!\",\n",
       "       \" is it wrong to live most of our life in dream if it's not possible to experience the same in reality?\",\n",
       "       ' premise: God is true', 'How can I stop loving my friend?',\n",
       "       ' one dimension is for time and the others space. What are the other dimensions?',\n",
       "       'Do employees at Tribune Publishing Company have a good work-life balance? Does this differ across positions and departments?',\n",
       "       'What would be an ideal sample size to get a more accurate exit poll estimate for a country like India and how does it compare with the largest exit polls conducted typically?',\n",
       "       \" he's straight. What should I do?\", ' her/his career goals? How',\n",
       "       \"My employer didn't pay me, but had filed income tax as if I was paid. What should I do now?\",\n",
       "       \"I don't have jio sim no. on its pack. what should I do?\",\n",
       "       'I am thinking of starting a business to provide stalking services via social media for clients looking to keep tabs on friends and family. Is this a feasible idea, and is there a market for it?',\n",
       "       'If society approves gay marriage, should it approve siblings to get married? How are these two relationships different from a moral viewpoint?',\n",
       "       'How can i find a partial sum formula for: [math]1\\\\cdot 1!+2\\\\cdot 2!+3\\\\cdot 3!\\\\ldots n\\\\cdot n![/math]?',\n",
       "       'What are the options for someone who is very good in swimming, like an Olympic player, if they get caught in a sea wreck? Will their swimming skills help them to survive?',\n",
       "       'What is the relationship between variance and standard deviation?',\n",
       "       'What will be your starcast if Mahabharat is made in tollywood?',\n",
       "       \"I have heard that most Indians don't use toilet paper, is this true?\",\n",
       "       ' I used to work for them as a cashier. What should be my next steps to find another job?',\n",
       "       'Why do I love Cersei Lannister?',\n",
       "       \"I wouldn't say I'm depressed, but I have a lot of anxiety and struggle to find motivation for things. What should I do?\",\n",
       "       ' will it hurt or feel good?',\n",
       "       'How is the instinct to allow someone to hurt you after hurting them natural?',\n",
       "       \" lease ending so I stopped paying the rent. What will happen if he doesn't my location as I moving to another state?\",\n",
       "       ' what would you tell your 14-year-old self?',\n",
       "       ' M.Arch or M.Plan?',\n",
       "       ' what is the best topic that i may present for students?',\n",
       "       'Who is the artist who created this image?',\n",
       "       ' can I work from UK remotely for 2-4 weeks per year?',\n",
       "       ' Go Pro Karma or DJI Mavic?',\n",
       "       'Is it OK if a teacher says, \"I don\\'t know\" to students?',\n",
       "       '3 mean?', 'What is the importance of molar mass?',\n",
       "       'How do presidential elections work in the US, how do the compare to the presidential elections in Nicaragua?',\n",
       "       \" it doesn't happen if I crash)?\",\n",
       "       ' how much of a share should I give him?',\n",
       "       \"How do I treat my 8-year-old younger brother if I don't get time to guide him?\",\n",
       "       'How do I develop a game or an app using any programming editor? (Turbo C, Visual Studio, Eclipse, etc.)',\n",
       "       'What is the best way to get rid of a 2-3 week pregnancy?',\n",
       "       ' please advice how to go about it?', ' ha',\n",
       "       'What is the difference between \";\" and \",\"?',\n",
       "       ' now she is totally avoiding me. What do I do?',\n",
       "       ' there is a way to eliminate tuition debt within a year. Ask for more information.',\n",
       "       \" by achieving success under any circumstances or by finding satisfaction in what we have!' Which way is correct?\",\n",
       "       ' ?', ' which is the best time to do so?',\n",
       "       ' can anyone suggest a better workflow for task management based on human psychology?',\n",
       "       'Where did Vulncat by HP Fortify disappear?',\n",
       "       'Is there any app to adjust my rough voice to better?',\n",
       "       'What is it like to study and live in Indonesia as a foreign student?',\n",
       "       'What is better to earn good money for a fresher, a job or a business?',\n",
       "       'Is Mark Zuckerberg the best programmer in the world?',\n",
       "       ' are they also against spay and neuter?',\n",
       "       'What are some of the best presidential campaigns in U.S. history?',\n",
       "       'What would happen if I left college for a semester? Would I still be able to go back and pick up where I left off?',\n",
       "       ' Finkibi & Spinko. : How long does it take to play a game of finkeybe?',\n",
       "       ' to be street smart or book smart?',\n",
       "       'What would happen if India stopped the water flowing into Pakistan? How devastating would it be for Pakistan and how would the international community react to it?',\n",
       "       ' are there any problems that have arisen? Where can I find ratings?',\n",
       "       'I have a great app idea. What should I do with it? What are my choices?',\n",
       "       ' 33x33=?',\n",
       "       ' is it true that dogs know beforehand that their owners are coming home?',\n",
       "       \" isn't its too late for me to learn English grammar?\",\n",
       "       'I just found out after 5 years of marriage that my wife never really loved me. We had a daughter together as well, but still she feels nothing towards me. How do I handle this?',\n",
       "       ' “This question needs improving.” What do you do?',\n",
       "       'What are the politics of The Daily Beast? How are they applied?',\n",
       "       'If I smoked meth for a month how long for a UA to show clean?',\n",
       "       'What do you think about the Galaxy Note 4?',\n",
       "       \"I'm a latina 23 years old woman (Pear body) ... I've been gaining weight the last months and I want to start losing it, to feel confident and also for my health (I have diabetic people in my family), is there any diet and exercises that I could try?\",\n",
       "       ' mean in Java?', 'What does this mean in C?',\n",
       "       'Was  Jesus Christ born on earth?',\n",
       "       'How do I build back links for my WordPress site?',\n",
       "       ' Bank or Stocks?',\n",
       "       ' press a button & then leave & recollect them later with clothes completely dry? Is it available in India?',\n",
       "       ' what is the value per view?',\n",
       "       'Is it irrational to walk on a college campus when going to classes?',\n",
       "       ' concerning his aspirations as a presidential candidate?',\n",
       "       ' would that be a defeat or a victory for democracy?',\n",
       "       'What kind of an organic solvent', ' should I stay or go home?',\n",
       "       \" do you have any scientific and tangible evidence that God doesn't exist?\",\n",
       "       'Why are so many IITians on Quora?',\n",
       "       'What is exactly BIT FIELDS when it is used?',\n",
       "       'Is violence innate in the human race? What purpose did or does it serve? Why does it persist?',\n",
       "       'If you have to choose another biomolecule to make an enzyme other than proteins what would be your choice and why?',\n",
       "       'What are some interesting cases of income tax which changed the tax laws in India?',\n",
       "       \"What's the difference between washboard abs and six pack abs?\",\n",
       "       'Anti-Muslim activist Katharine Gorka named to Homeland Security Transition Team',\n",
       "       ' how many pots and pans do you usually have to wash up afterwards and how many remain unwashed after the coffee is served?',\n",
       "       \"My boyfriend wants to try anal but I don't know how it feels, what should I do?\",\n",
       "       'Is Herschel crater on the moon Mimas needed to be created at special period of the formation, in order for it to be \"frozen\" at this particular shape?',\n",
       "       'What is the difference between variance and standard deviation?',\n",
       "       'I<cards', ' AWA-3.5)?',\n",
       "       ' did he make a big enough impact during his time on Earth?',\n",
       "       'Why was William S. Burroughs such an influential writer?',\n",
       "       \"I'm a 13 year old lesbian and am in love with my best, straight friend. What do I do?\",\n",
       "       \"How does Trump plan on not touching Social Security when he doesn't want tax increases to pay for that?\",\n",
       "       'What is the difference between standard deviation and variance? Gives an explaination with example?',\n",
       "       'How do presidential elections work in the US, how do the compare to the presidential elections in Uruguay?',\n",
       "       'What is it like to be a submariner?',\n",
       "       'When a group of people are facing mass execution why do they not usually rise up to save themselves?',\n",
       "       ' how do I do that?',\n",
       "       \" at least 2 bottles of spirits a week and 5 pints a night. I'm quiting for 30 days. What will that do for me?\",\n",
       "       'I am 17. I am a very motivated type of person with many leadership skills and I want to become an entrepreneur in business management. How can I make money work for me in my favor? For example how do I turn my assets into money makers over spending my money on liabilities?',\n",
       "       ' running or walking? What are some cardio exercises for weight gain?',\n",
       "       ' what would happen if someone jumped into it?',\n",
       "       'How will the presidential election affect FOREX?',\n",
       "       'I called airtel customer care, got a reply from BJP, Why?',\n",
       "       '-2 0 2', ' did Mandela sell out Black people?',\n",
       "       ' a low pitch sound or a high pitch sound? Why?',\n",
       "       ' 24 hours later my finger is still tingly/numb?',\n",
       "       'How do I get a job in Microsoft or Google after complete a B.Tech in computer science?',\n",
       "       'What is the difference between \":=\" and \"::=\" ?',\n",
       "       'Does the apocalypse have a soundtrack?',\n",
       "       \" that you just have to lose fat overall. So how do you lose chin fat if you're fit?\",\n",
       "       'If I download movies or games using utorrent in Delhi, India, is it illegal or is there any fine I have to pay if they track me down? Is this true?',\n",
       "       'Who will win: lizard or frog?',\n",
       "       'Had Kashmir been part of Pakistan would India behave the same way as Pakistan does?',\n",
       "       ' is there any fix?',\n",
       "       ' yet why does Donald  Trump stir segments of white people in the GOP base ?',\n",
       "       ' I’m extremely uncomfortable with it. What should I do?',\n",
       "       ' what does it mean?',\n",
       "       'What is the most frustrating thing about your job or business? In other words, what keeps you up at night?',\n",
       "       ' The Clone Wars?',\n",
       "       ' While she is away at college how can I transfer money from my account to hers?',\n",
       "       'DR version of World War I?',\n",
       "       ' what is the best answer we should give to confirm our selection?',\n",
       "       \"What was Steve Jobs' cause of death?\",\n",
       "       'What is current account and savings account?', ' what do I do?',\n",
       "       ' what is your advice for me?',\n",
       "       'What were those specific steps of the government in the 1950-60 that amounted to the imposition of Hindi?',\n",
       "       ' and seem like Muslims worship the Kaaba?',\n",
       "       \"I am 19. I think I might be one week pregnant. I am really scared. I don't want my parents to get to know. I live in Bangalore. What do I do?\",\n",
       "       'Who is the most beautiful woman on Game of Thrones?',\n",
       "       ' when he looks like this below?', \"' mean?\",\n",
       "       \"I am 7 weeks pregnant. I have been wanting to have a baby for a while now. But now that I am having a baby I constantly keep feeling like I'm stuck and I don't want it. What is wrong with me?\",\n",
       "       'Since the beginning, I have supported Sanders and was saddened when he dropped out. Why should I vote for you, rather than vote for Jill stein?',\n",
       "       ' how do I keep track of what my children do from my desk?',\n",
       "       ' can we stop them?', ' are they really kissing?',\n",
       "       ' Deadline being this september to give both exams to apply for fall 2017?',\n",
       "       'What is a scope resolution operator in PHP? How is it used?',\n",
       "       'What advice would you give to your 18-year-old self?',\n",
       "       ' Information science (IE) at Ambedkar Institute of technology or CSE at Global Academy of Technology?',\n",
       "       'How do I get a six pack?',\n",
       "       \"Atheists, can you please post the evidence you have discovered that makes you believe that God doesn't exist?\",\n",
       "       'What is your college life story in brief?',\n",
       "       'How does work address affect you when filing state taxes?',\n",
       "       'What is an antenna?', ' 3 sauces', ' Arjit Singh or Atif Aslam?',\n",
       "       ' i.e. increase the quality of the video without downloading the video?',\n",
       "       \"Why won't my boyfriend have sex with me?\",\n",
       "       'Can I get MBBS seat in private medical colleges with 316 marks in NEET 2016?',\n",
       "       ' then is patience a virtue?', ' Marshmallow?',\n",
       "       ' the second has sequence number 170.',\n",
       "       'Can you suggest an order in which I should go about learning chords?',\n",
       "       'Is Pokemon Go the first of its kind and why is it so popular?',\n",
       "       ' Audio Technica m20x or Sennheiser 203?',\n",
       "       'If an audio file is converted from MP3 to WAV back to the same bitrate MP3, will there be any loss in quality relative to the original file?',\n",
       "       \"I had sex with my gf without using condom on the 25th sept Morning, she had ipill at 26th sept night, She hasn't got her period yet & its 6th October  (usually she gets period in the 1st week of the month). I'm worried, has she got pregnant?\",\n",
       "       \"I'm gay I feel in love with a straight boy. He is also my friend. What should I do?\",\n",
       "       'Here is my new discovery in math which is true but impossible to prove. 2 never equal = C^n where C<2 ?',\n",
       "       'What makes Pokémon GO so popular?',\n",
       "       \" she says she's not feeling us anymore and wants to break up. Is it time to move on?\",\n",
       "       '}[/math] and [math]\\\\texttt{if(1) {}}[/math]?',\n",
       "       ' should I buy the MacBook Pro MGXC2HN/A or wait for the 2015 model to be released?',\n",
       "       \"How would we solve the differential equation y'sinx=ylogy?\",\n",
       "       ' they eventually stop working. Why is this?', ' in C++?',\n",
       "       \"How long/ loud would I have to scream at a mug of water to make it boil, assuming the mug won't crack?\",\n",
       "       \" it only has one tick and I can't see the last seen time - Have I been blocked?\",\n",
       "       \"A Song of Ice and Fire: Is R'hllor a real god?\",\n",
       "       'How can judge take fresh cognizance in Indian courts based on new supplementary chargesheet?',\n",
       "       \"Why didn't Gimli know none of his kin were alive at Moria?\",\n",
       "       ' how and why has still life developed in painting?',\n",
       "       'Is it better to get a car loan through a dealership or a bank?',\n",
       "       ' is God a humanoid? Could a more-than-three-dimensional being even be humanoid?',\n",
       "       'Can you still have CPM ads on a single page application?',\n",
       "       'I failed 6 classes in college, what should I do?',\n",
       "       'What does an expression involving multiple post/pre decrement/increment operators evaluate to in C and C++?',\n",
       "       'dx[/math]?', 'How do I solve the given differential equation?',\n",
       "       '-',\n",
       "       'Where can I buy a cheap MacBook (Air or Pro) in the US/Canada?',\n",
       "       'What is the legacy of William S. Burroughs?',\n",
       "       \"' meaning a new row in the matrix. For which value(s) of x is rank(D) = 2?\",\n",
       "       ' what will i=i++ do to i?',\n",
       "       'What is the difference between the representation of variance and standard deviation?',\n",
       "       ' is this unusual or just ignored?',\n",
       "       'What is the difference between \"&\" and \"and\"?', ' -C=O or CH2?',\n",
       "       ' is it worth the extra cost?'], dtype=object)"
      ]
     },
     "execution_count": 7,
     "metadata": {},
     "output_type": "execute_result"
    }
   ],
   "source": [
    "# Explore the unique values for 'is_duplicate' \n",
    "quora_df['is_duplicate'].unique()"
   ]
  },
  {
   "cell_type": "markdown",
   "metadata": {},
   "source": [
    "There are many text values in the 'is_duplicate' column. We filter our dataset to only the rows where 'is_duplicate' is 0 or 1."
   ]
  },
  {
   "cell_type": "code",
   "execution_count": 8,
   "metadata": {},
   "outputs": [
    {
     "name": "stdout",
     "output_type": "stream",
     "text": [
      "Unique values of is_duplicate ['0' '1']\n"
     ]
    }
   ],
   "source": [
    "# Obtain the datasets with 0,1 values for is_duplicate, change datatype to int\n",
    "quora_df = quora_df[(quora_df['is_duplicate'] == str(0)) | (quora_df['is_duplicate'] == str(1))]\n",
    "print('Unique values of is_duplicate',quora_df['is_duplicate'].unique())\n",
    "quora_df['is_duplicate'] = quora_df['is_duplicate'].astype(int)"
   ]
  },
  {
   "cell_type": "markdown",
   "metadata": {},
   "source": [
    "#### Unique value counts and feature type validation"
   ]
  },
  {
   "cell_type": "code",
   "execution_count": 9,
   "metadata": {
    "scrolled": true
   },
   "outputs": [
    {
     "name": "stdout",
     "output_type": "stream",
     "text": [
      "The unique value count for qid1 is 7863      29\n",
      "2628      19\n",
      "196396    15\n",
      "205101    12\n",
      "26304     11\n",
      "          ..\n",
      "737230     1\n",
      "735183     1\n",
      "774096     1\n",
      "253906     1\n",
      "524288     1\n",
      "Name: qid1, Length: 398998, dtype: int64\n",
      "\n",
      "\n",
      "The unique value count for qid2 is 65333     47\n",
      "147324    39\n",
      "7863      18\n",
      "3066      16\n",
      "173838    16\n",
      "          ..\n",
      "317235     1\n",
      "296761     1\n",
      "302906     1\n",
      "300859     1\n",
      "771862     1\n",
      "Name: qid2, Length: 397610, dtype: int64\n",
      "\n",
      "\n",
      "The unique value count for question1 is How do I improve my English speaking?                                                         50\n",
      "How does the ban on 500 and 1000 rupee notes helps to identify black money and corruption?    48\n",
      "How do I improve my English language?                                                         47\n",
      "What should I do to earn money online?                                                        47\n",
      "How can changing 500 and 1000 rupee notes end the black money in India?                       47\n",
      "                                                                                              ..\n",
      "Why is a good quantitative fund only generates return in the single digits?                    1\n",
      "What is the thing that you find most difficult to explain to other people?                     1\n",
      "How much powerful a human mind can be?                                                         1\n",
      "How do you plan your career as a software engineer?                                            1\n",
      "What is the difference between dynamic programming and divide and conquer?                     1\n",
      "Name: question1, Length: 290227, dtype: int64\n",
      "\n",
      "\n",
      "The unique value count for question2 is How can you look at someone's private Instagram account without following them?                                                                                                                                                                                          120\n",
      "What are the best ways to lose weight?                                                                                                                                                                                                                                   119\n",
      "How can I lose weight quickly?                                                                                                                                                                                                                                           100\n",
      "What's the easiest way to make money online?                                                                                                                                                                                                                              71\n",
      "What are some things new employees should know going into their first day at AT&T?                                                                                                                                                                                        66\n",
      "                                                                                                                                                                                                                                                                        ... \n",
      "Is there anything wrong with being egotistical when you can acknowledge and concede to your wrongdoings, defeat and other people's superiority?                                                                                                                            1\n",
      "Jobs for mechanical engineer after masters in australia?                                                                                                                                                                                                                   1\n",
      "What are neurons made of?                                                                                                                                                                                                                                                  1\n",
      "Shyness: I'm hopelessly introvert and shy person who struggles to talk calmly to even a group of five friends let alone speak properly to strangers. I don't even have a single female friend as I'm even more shy in front of women. How can I work to correct this?      1\n",
      "Can you work in law as an entrepreneur without ever becoming certified to practice law yourself?                                                                                                                                                                           1\n",
      "Name: question2, Length: 298932, dtype: int64\n",
      "\n",
      "\n",
      "The unique value count for is_duplicate is 0    254745\n",
      "1    149267\n",
      "Name: is_duplicate, dtype: int64\n",
      "\n",
      "\n"
     ]
    }
   ],
   "source": [
    "# Check the unique count for each feature\n",
    "for col in list(quora_df.columns):\n",
    "    print('The unique value count for', col, 'is', quora_df[col].value_counts())\n",
    "    print('\\n')"
   ]
  },
  {
   "cell_type": "code",
   "execution_count": 10,
   "metadata": {},
   "outputs": [
    {
     "name": "stdout",
     "output_type": "stream",
     "text": [
      "<class 'pandas.core.frame.DataFrame'>\n",
      "Int64Index: 404012 entries, 0 to 404350\n",
      "Data columns (total 5 columns):\n",
      " #   Column        Non-Null Count   Dtype \n",
      "---  ------        --------------   ----- \n",
      " 0   qid1          404012 non-null  int64 \n",
      " 1   qid2          404012 non-null  int64 \n",
      " 2   question1     404012 non-null  object\n",
      " 3   question2     404012 non-null  object\n",
      " 4   is_duplicate  404012 non-null  int64 \n",
      "dtypes: int64(3), object(2)\n",
      "memory usage: 18.5+ MB\n"
     ]
    }
   ],
   "source": [
    "# Ensure that 'is_duplicate' is of type int and there are no missing values.\n",
    "quora_df.info()"
   ]
  },
  {
   "cell_type": "markdown",
   "metadata": {},
   "source": [
    "## Exploratory Analysis and Preprocessing"
   ]
  },
  {
   "cell_type": "markdown",
   "metadata": {},
   "source": [
    "We will partition our data into two sets, one group where the pairs of questions have the same semantic meaning ('is_duplicate' = 1) and another group where the pairs do not have the same meaning ('is_duplicate' = 0). Some analysis we can do is use bag of words and tfidf modules to see the most common words between sentences. "
   ]
  },
  {
   "cell_type": "code",
   "execution_count": 11,
   "metadata": {},
   "outputs": [],
   "source": [
    "from collections import Counter\n",
    "import nltk\n",
    "from nltk.tokenize import word_tokenize\n",
    "from nltk.stem import WordNetLemmatizer\n",
    "from nltk.corpus import stopwords\n",
    "#nltk.download('stopwords')\n",
    "#nltk.download('wordnet')\n",
    "# nltk.download('punkt')"
   ]
  },
  {
   "cell_type": "code",
   "execution_count": 12,
   "metadata": {},
   "outputs": [],
   "source": [
    "### This function will take the questions and output a Counter object of the lemmatized \n",
    "### text, or the most important words of the question text in its root form.\n",
    "\n",
    "def lemmatized_bagof_words(df):\n",
    "    question1_bow = []; question2_bow = []\n",
    "    index_list = list(df.index)\n",
    "    english_stops = set(stopwords.words('english'))  \n",
    "\n",
    "    for i in range(len(df)):\n",
    "        # tokenize the words for each question\n",
    "        tokens_1 = word_tokenize(df['question1'][index_list[i]])\n",
    "        tokens_2 = word_tokenize(df['question2'][index_list[i]])\n",
    "\n",
    "        # lower case each word\n",
    "        lower_tokens_1 = [t.lower() for t in tokens_1]\n",
    "        lower_tokens_2 = [t.lower() for t in tokens_2]\n",
    "        \n",
    "        # only use the alphabet\n",
    "        alpha_only_1 = [t for t in lower_tokens_1 if t.isalpha()]\n",
    "        alpha_only_2 = [t for t in lower_tokens_2 if t.isalpha()]\n",
    "        \n",
    "        # filter out stop words\n",
    "        no_stops_1 = [t for t in alpha_only_1 if t not in english_stops]\n",
    "        no_stops_2 = [t for t in alpha_only_2 if t not in english_stops]\n",
    "\n",
    "        # lemmatize all the rods\n",
    "        wordnet_lemmatizer = WordNetLemmatizer()\n",
    "        lemmatized_1 = [wordnet_lemmatizer.lemmatize(t) for t in no_stops_1]\n",
    "        lemmatized_2 = [wordnet_lemmatizer.lemmatize(t) for t in no_stops_2]\n",
    "        \n",
    "        # append each lemmatized bag of words\n",
    "        question1_bow.append(Counter(lemmatized_1))\n",
    "        question2_bow.append(Counter(lemmatized_2))\n",
    "    \n",
    "    return question1_bow, question2_bow"
   ]
  },
  {
   "cell_type": "code",
   "execution_count": 13,
   "metadata": {},
   "outputs": [],
   "source": [
    "# Obtain lemmatized Counter for the pairs of questions for questions in dataframe\n",
    "q1_bagOfWords, q2_bagOfWords = lemmatized_bagof_words(quora_df)"
   ]
  },
  {
   "cell_type": "code",
   "execution_count": 14,
   "metadata": {},
   "outputs": [],
   "source": [
    "# Add the lematized bag of words to the dataframe\n",
    "quora_df['q1_bag_of_words'] = q1_bagOfWords\n",
    "quora_df['q2_bag_of_words'] = q2_bagOfWords"
   ]
  },
  {
   "cell_type": "code",
   "execution_count": 15,
   "metadata": {},
   "outputs": [
    {
     "data": {
      "text/html": [
       "<div>\n",
       "<style scoped>\n",
       "    .dataframe tbody tr th:only-of-type {\n",
       "        vertical-align: middle;\n",
       "    }\n",
       "\n",
       "    .dataframe tbody tr th {\n",
       "        vertical-align: top;\n",
       "    }\n",
       "\n",
       "    .dataframe thead th {\n",
       "        text-align: right;\n",
       "    }\n",
       "</style>\n",
       "<table border=\"1\" class=\"dataframe\">\n",
       "  <thead>\n",
       "    <tr style=\"text-align: right;\">\n",
       "      <th></th>\n",
       "      <th>qid1</th>\n",
       "      <th>qid2</th>\n",
       "      <th>question1</th>\n",
       "      <th>question2</th>\n",
       "      <th>is_duplicate</th>\n",
       "      <th>q1_bag_of_words</th>\n",
       "      <th>q2_bag_of_words</th>\n",
       "    </tr>\n",
       "    <tr>\n",
       "      <th>id</th>\n",
       "      <th></th>\n",
       "      <th></th>\n",
       "      <th></th>\n",
       "      <th></th>\n",
       "      <th></th>\n",
       "      <th></th>\n",
       "      <th></th>\n",
       "    </tr>\n",
       "  </thead>\n",
       "  <tbody>\n",
       "    <tr>\n",
       "      <th>0</th>\n",
       "      <td>1</td>\n",
       "      <td>2</td>\n",
       "      <td>What is the step by step guide to invest in sh...</td>\n",
       "      <td>What is the step by step guide to invest in sh...</td>\n",
       "      <td>0</td>\n",
       "      <td>{'step': 2, 'guide': 1, 'invest': 1, 'share': ...</td>\n",
       "      <td>{'step': 2, 'guide': 1, 'invest': 1, 'share': ...</td>\n",
       "    </tr>\n",
       "    <tr>\n",
       "      <th>1</th>\n",
       "      <td>3</td>\n",
       "      <td>4</td>\n",
       "      <td>What is the story of Kohinoor (Koh-i-Noor) Dia...</td>\n",
       "      <td>What would happen if the Indian government sto...</td>\n",
       "      <td>0</td>\n",
       "      <td>{'story': 1, 'kohinoor': 1, 'diamond': 1}</td>\n",
       "      <td>{'would': 1, 'happen': 1, 'indian': 1, 'govern...</td>\n",
       "    </tr>\n",
       "    <tr>\n",
       "      <th>2</th>\n",
       "      <td>5</td>\n",
       "      <td>6</td>\n",
       "      <td>How can I increase the speed of my internet co...</td>\n",
       "      <td>How can Internet speed be increased by hacking...</td>\n",
       "      <td>0</td>\n",
       "      <td>{'increase': 1, 'speed': 1, 'internet': 1, 'co...</td>\n",
       "      <td>{'internet': 1, 'speed': 1, 'increased': 1, 'h...</td>\n",
       "    </tr>\n",
       "    <tr>\n",
       "      <th>3</th>\n",
       "      <td>7</td>\n",
       "      <td>8</td>\n",
       "      <td>Why am I mentally very lonely? How can I solve...</td>\n",
       "      <td>Find the remainder when [math]23^{24}[/math] i...</td>\n",
       "      <td>0</td>\n",
       "      <td>{'mentally': 1, 'lonely': 1, 'solve': 1}</td>\n",
       "      <td>{'find': 1, 'remainder': 1, 'math': 1, 'divide...</td>\n",
       "    </tr>\n",
       "    <tr>\n",
       "      <th>4</th>\n",
       "      <td>9</td>\n",
       "      <td>10</td>\n",
       "      <td>Which one dissolve in water quikly sugar, salt...</td>\n",
       "      <td>Which fish would survive in salt water?</td>\n",
       "      <td>0</td>\n",
       "      <td>{'one': 1, 'dissolve': 1, 'water': 1, 'quikly'...</td>\n",
       "      <td>{'fish': 1, 'would': 1, 'survive': 1, 'salt': ...</td>\n",
       "    </tr>\n",
       "    <tr>\n",
       "      <th>...</th>\n",
       "      <td>...</td>\n",
       "      <td>...</td>\n",
       "      <td>...</td>\n",
       "      <td>...</td>\n",
       "      <td>...</td>\n",
       "      <td>...</td>\n",
       "      <td>...</td>\n",
       "    </tr>\n",
       "    <tr>\n",
       "      <th>404346</th>\n",
       "      <td>789792</td>\n",
       "      <td>789793</td>\n",
       "      <td>How many keywords are there in the Racket prog...</td>\n",
       "      <td>How many keywords are there in PERL Programmin...</td>\n",
       "      <td>0</td>\n",
       "      <td>{'many': 1, 'keywords': 1, 'racket': 1, 'progr...</td>\n",
       "      <td>{'many': 1, 'keywords': 1, 'perl': 1, 'program...</td>\n",
       "    </tr>\n",
       "    <tr>\n",
       "      <th>404347</th>\n",
       "      <td>789794</td>\n",
       "      <td>789795</td>\n",
       "      <td>Do you believe there is life after death?</td>\n",
       "      <td>Is it true that there is life after death?</td>\n",
       "      <td>1</td>\n",
       "      <td>{'believe': 1, 'life': 1, 'death': 1}</td>\n",
       "      <td>{'true': 1, 'life': 1, 'death': 1}</td>\n",
       "    </tr>\n",
       "    <tr>\n",
       "      <th>404348</th>\n",
       "      <td>789796</td>\n",
       "      <td>789797</td>\n",
       "      <td>What is one coin?</td>\n",
       "      <td>What's this coin?</td>\n",
       "      <td>0</td>\n",
       "      <td>{'one': 1, 'coin': 1}</td>\n",
       "      <td>{'coin': 1}</td>\n",
       "    </tr>\n",
       "    <tr>\n",
       "      <th>404349</th>\n",
       "      <td>789798</td>\n",
       "      <td>789799</td>\n",
       "      <td>What is the approx annual cost of living while...</td>\n",
       "      <td>I am having little hairfall problem but I want...</td>\n",
       "      <td>0</td>\n",
       "      <td>{'approx': 1, 'annual': 1, 'cost': 1, 'living'...</td>\n",
       "      <td>{'little': 1, 'hairfall': 1, 'problem': 1, 'wa...</td>\n",
       "    </tr>\n",
       "    <tr>\n",
       "      <th>404350</th>\n",
       "      <td>789800</td>\n",
       "      <td>789801</td>\n",
       "      <td>What is like to have sex with cousin?</td>\n",
       "      <td>What is it like to have sex with your cousin?</td>\n",
       "      <td>0</td>\n",
       "      <td>{'like': 1, 'sex': 1, 'cousin': 1}</td>\n",
       "      <td>{'like': 1, 'sex': 1, 'cousin': 1}</td>\n",
       "    </tr>\n",
       "  </tbody>\n",
       "</table>\n",
       "<p>404012 rows × 7 columns</p>\n",
       "</div>"
      ],
      "text/plain": [
       "          qid1    qid2                                          question1  \\\n",
       "id                                                                          \n",
       "0            1       2  What is the step by step guide to invest in sh...   \n",
       "1            3       4  What is the story of Kohinoor (Koh-i-Noor) Dia...   \n",
       "2            5       6  How can I increase the speed of my internet co...   \n",
       "3            7       8  Why am I mentally very lonely? How can I solve...   \n",
       "4            9      10  Which one dissolve in water quikly sugar, salt...   \n",
       "...        ...     ...                                                ...   \n",
       "404346  789792  789793  How many keywords are there in the Racket prog...   \n",
       "404347  789794  789795          Do you believe there is life after death?   \n",
       "404348  789796  789797                                  What is one coin?   \n",
       "404349  789798  789799  What is the approx annual cost of living while...   \n",
       "404350  789800  789801              What is like to have sex with cousin?   \n",
       "\n",
       "                                                question2  is_duplicate  \\\n",
       "id                                                                        \n",
       "0       What is the step by step guide to invest in sh...             0   \n",
       "1       What would happen if the Indian government sto...             0   \n",
       "2       How can Internet speed be increased by hacking...             0   \n",
       "3       Find the remainder when [math]23^{24}[/math] i...             0   \n",
       "4                 Which fish would survive in salt water?             0   \n",
       "...                                                   ...           ...   \n",
       "404346  How many keywords are there in PERL Programmin...             0   \n",
       "404347         Is it true that there is life after death?             1   \n",
       "404348                                  What's this coin?             0   \n",
       "404349  I am having little hairfall problem but I want...             0   \n",
       "404350      What is it like to have sex with your cousin?             0   \n",
       "\n",
       "                                          q1_bag_of_words  \\\n",
       "id                                                          \n",
       "0       {'step': 2, 'guide': 1, 'invest': 1, 'share': ...   \n",
       "1               {'story': 1, 'kohinoor': 1, 'diamond': 1}   \n",
       "2       {'increase': 1, 'speed': 1, 'internet': 1, 'co...   \n",
       "3                {'mentally': 1, 'lonely': 1, 'solve': 1}   \n",
       "4       {'one': 1, 'dissolve': 1, 'water': 1, 'quikly'...   \n",
       "...                                                   ...   \n",
       "404346  {'many': 1, 'keywords': 1, 'racket': 1, 'progr...   \n",
       "404347              {'believe': 1, 'life': 1, 'death': 1}   \n",
       "404348                              {'one': 1, 'coin': 1}   \n",
       "404349  {'approx': 1, 'annual': 1, 'cost': 1, 'living'...   \n",
       "404350                 {'like': 1, 'sex': 1, 'cousin': 1}   \n",
       "\n",
       "                                          q2_bag_of_words  \n",
       "id                                                         \n",
       "0       {'step': 2, 'guide': 1, 'invest': 1, 'share': ...  \n",
       "1       {'would': 1, 'happen': 1, 'indian': 1, 'govern...  \n",
       "2       {'internet': 1, 'speed': 1, 'increased': 1, 'h...  \n",
       "3       {'find': 1, 'remainder': 1, 'math': 1, 'divide...  \n",
       "4       {'fish': 1, 'would': 1, 'survive': 1, 'salt': ...  \n",
       "...                                                   ...  \n",
       "404346  {'many': 1, 'keywords': 1, 'perl': 1, 'program...  \n",
       "404347                 {'true': 1, 'life': 1, 'death': 1}  \n",
       "404348                                        {'coin': 1}  \n",
       "404349  {'little': 1, 'hairfall': 1, 'problem': 1, 'wa...  \n",
       "404350                 {'like': 1, 'sex': 1, 'cousin': 1}  \n",
       "\n",
       "[404012 rows x 7 columns]"
      ]
     },
     "execution_count": 15,
     "metadata": {},
     "output_type": "execute_result"
    }
   ],
   "source": [
    "quora_df"
   ]
  },
  {
   "cell_type": "code",
   "execution_count": 16,
   "metadata": {},
   "outputs": [],
   "source": [
    "# Split our data set into duplicates and non-duplicates\n",
    "duplicates = quora_df[quora_df['is_duplicate']==1]\n",
    "non_duplicates = quora_df[quora_df['is_duplicate']==0]"
   ]
  },
  {
   "cell_type": "code",
   "execution_count": 77,
   "metadata": {},
   "outputs": [],
   "source": [
    "# Randomly sample 4 rows from the duplicates and non-duplicates dataframes\n",
    "duplicate_rand = duplicates.sample(n=4)\n",
    "nonduplicate_rand = non_duplicates.sample(n=4)"
   ]
  },
  {
   "cell_type": "code",
   "execution_count": 137,
   "metadata": {},
   "outputs": [],
   "source": [
    "# This function will display barplots for common words of the pairs of questions \n",
    "def barplot(data, q1_bow, q2_bow, index, color):\n",
    "    plt.subplots(1,2,figsize=(12, 4))\n",
    "    plt.subplot(1, 2, 1)\n",
    "    plt.bar(*zip(*data[q1_bow][index].items()), color = color)\n",
    "    plt.title('Question 1 Bag of Words, ID: '+ str(index))\n",
    "    plt.xticks(rotation=45)\n",
    "    plt.subplot(1, 2, 2)\n",
    "    plt.bar(*zip(*data[q2_bow][index].items()), color = color)\n",
    "    plt.title('Question 2 Bag of Words, ID: ' + str(index))\n",
    "    plt.xticks(rotation=45)\n",
    "    plt.show()"
   ]
  },
  {
   "cell_type": "markdown",
   "metadata": {},
   "source": [
    "#### Barplots for samples of duplicate question pairs"
   ]
  },
  {
   "cell_type": "markdown",
   "metadata": {},
   "source": [
    "Here, we display barplots of common words for our 4 random sampled duplicate question pairs."
   ]
  },
  {
   "cell_type": "code",
   "execution_count": 98,
   "metadata": {},
   "outputs": [
    {
     "data": {
      "text/plain": [
       "[352165, 184186, 22402, 13753]"
      ]
     },
     "execution_count": 98,
     "metadata": {},
     "output_type": "execute_result"
    }
   ],
   "source": [
    "# List out the index ids for sampled duplicate set\n",
    "list(duplicate_rand.index)"
   ]
  },
  {
   "cell_type": "code",
   "execution_count": 138,
   "metadata": {},
   "outputs": [
    {
     "data": {
      "image/png": "[encoded data removed]",
      "text/plain": [
       "<Figure size 864x288 with 2 Axes>"
      ]
     },
     "metadata": {
      "needs_background": "light"
     },
     "output_type": "display_data"
    }
   ],
   "source": [
    "# 1st sample barpots for duplicates\n",
    "barplot(duplicate_rand, 'q1_bag_of_words', 'q2_bag_of_words', 352165, 'b')"
   ]
  },
  {
   "cell_type": "code",
   "execution_count": 139,
   "metadata": {},
   "outputs": [
    {
     "data": {
      "image/png": "[encoded data removed]",
      "text/plain": [
       "<Figure size 864x288 with 2 Axes>"
      ]
     },
     "metadata": {
      "needs_background": "light"
     },
     "output_type": "display_data"
    }
   ],
   "source": [
    "# 2nd sample barpots for duplicates\n",
    "barplot(duplicate_rand, 'q1_bag_of_words', 'q2_bag_of_words', 184186, 'b')"
   ]
  },
  {
   "cell_type": "code",
   "execution_count": 140,
   "metadata": {},
   "outputs": [
    {
     "data": {
      "image/png": "[encoded data removed]",
      "text/plain": [
       "<Figure size 864x288 with 2 Axes>"
      ]
     },
     "metadata": {
      "needs_background": "light"
     },
     "output_type": "display_data"
    }
   ],
   "source": [
    "# 3rd sample barpots for duplicates\n",
    "barplot(duplicate_rand, 'q1_bag_of_words', 'q2_bag_of_words', 22402, 'b')"
   ]
  },
  {
   "cell_type": "code",
   "execution_count": 141,
   "metadata": {},
   "outputs": [
    {
     "data": {
      "image/png": "[encoded data removed]",
      "text/plain": [
       "<Figure size 864x288 with 2 Axes>"
      ]
     },
     "metadata": {
      "needs_background": "light"
     },
     "output_type": "display_data"
    }
   ],
   "source": [
    "# 4th sample barpots for duplicates\n",
    "barplot(duplicate_rand, 'q1_bag_of_words', 'q2_bag_of_words', 13753, 'b')"
   ]
  },
  {
   "cell_type": "markdown",
   "metadata": {},
   "source": [
    "#### Barplots for samples of non duplicate question pairs"
   ]
  },
  {
   "cell_type": "markdown",
   "metadata": {},
   "source": [
    "Here, we display barplots of common words for our 4 random sampled nonduplicate question pairs."
   ]
  },
  {
   "cell_type": "code",
   "execution_count": 114,
   "metadata": {},
   "outputs": [
    {
     "data": {
      "text/plain": [
       "[135482, 337853, 68197, 190781]"
      ]
     },
     "execution_count": 114,
     "metadata": {},
     "output_type": "execute_result"
    }
   ],
   "source": [
    "# List out the index ids for sampled nonduplicate set\n",
    "list(nonduplicate_rand.index)"
   ]
  },
  {
   "cell_type": "code",
   "execution_count": 142,
   "metadata": {},
   "outputs": [
    {
     "data": {
      "image/png": "[encoded data removed]",
      "text/plain": [
       "<Figure size 864x288 with 2 Axes>"
      ]
     },
     "metadata": {
      "needs_background": "light"
     },
     "output_type": "display_data"
    }
   ],
   "source": [
    "# 1st sample barpots for non duplicate question pairs\n",
    "barplot(nonduplicate_rand, 'q1_bag_of_words', 'q2_bag_of_words', 135482, 'r')"
   ]
  },
  {
   "cell_type": "code",
   "execution_count": 143,
   "metadata": {},
   "outputs": [
    {
     "data": {
      "image/png": "[encoded data removed]",
      "text/plain": [
       "<Figure size 864x288 with 2 Axes>"
      ]
     },
     "metadata": {
      "needs_background": "light"
     },
     "output_type": "display_data"
    }
   ],
   "source": [
    "# 2nd sample barpots for non duplicate question pairs\n",
    "barplot(nonduplicate_rand, 'q1_bag_of_words', 'q2_bag_of_words', 337853, 'r')"
   ]
  },
  {
   "cell_type": "code",
   "execution_count": 144,
   "metadata": {},
   "outputs": [
    {
     "data": {
      "image/png": "[encoded data removed]",
      "text/plain": [
       "<Figure size 864x288 with 2 Axes>"
      ]
     },
     "metadata": {
      "needs_background": "light"
     },
     "output_type": "display_data"
    }
   ],
   "source": [
    "# 3rd sample barpots for non duplicate question pairs\n",
    "barplot(nonduplicate_rand, 'q1_bag_of_words', 'q2_bag_of_words', 68197, 'r')"
   ]
  },
  {
   "cell_type": "code",
   "execution_count": 145,
   "metadata": {},
   "outputs": [
    {
     "data": {
      "image/png": "[encoded data removed]",
      "text/plain": [
       "<Figure size 864x288 with 2 Axes>"
      ]
     },
     "metadata": {
      "needs_background": "light"
     },
     "output_type": "display_data"
    }
   ],
   "source": [
    "# 4th sample barpots for non duplicate question pairs\n",
    "barplot(nonduplicate_rand, 'q1_bag_of_words', 'q2_bag_of_words', 190781, 'r')"
   ]
  },
  {
   "cell_type": "markdown",
   "metadata": {},
   "source": [
    "#### Thoughts"
   ]
  },
  {
   "cell_type": "markdown",
   "metadata": {},
   "source": [
    "The purpose of the barplots was to see if we can identify word entities, nouns, verbs or any key word(s) shared or not shared between pairs of sentences. This way we can distinguish between duplicate and non-duplicate pairs of sentences. Unfortunately, since each sentence pair is unique, there is never a one-stop rule. \n",
    "\n",
    "For instance, if we look at the barplots for the 4th samples (both duplicate and non-duplicate), one question bag of words is a subset of the other in both cases. But pair is in the duplicate partition and one group is in the non duplicate partition. \n",
    "\n",
    "Still, we were able to clean and process our data and we will be ready to employ advanced NLP techniques to better predict semantic pariring. "
   ]
  },
  {
   "cell_type": "code",
   "execution_count": null,
   "metadata": {},
   "outputs": [],
   "source": []
  }
 ],
 "metadata": {
  "kernelspec": {
   "display_name": "Python 3",
   "language": "python",
   "name": "python3"
  },
  "language_info": {
   "codemirror_mode": {
    "name": "ipython",
    "version": 3
   },
   "file_extension": ".py",
   "mimetype": "text/x-python",
   "name": "python",
   "nbconvert_exporter": "python",
   "pygments_lexer": "ipython3",
   "version": "3.7.6"
  }
 },
 "nbformat": 4,
 "nbformat_minor": 4
}
